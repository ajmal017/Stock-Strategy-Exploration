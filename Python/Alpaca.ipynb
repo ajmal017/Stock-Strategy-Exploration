{
 "cells": [
  {
   "cell_type": "code",
   "execution_count": 14,
   "metadata": {},
   "outputs": [],
   "source": [
    "## Installing Required Packages\n",
    "import sys\n",
    "import pickle\n",
    "import ta\n",
    "#!{sys.executable} -m pip install alpaca_trade_api\n",
    "#!{sys.executable} -m pip install tqdm\n",
    "#!{sys.executable} -m pip install ipywidgets\n",
    "#!{sys.executable} -m pip install ta"
   ]
  },
  {
   "cell_type": "code",
   "execution_count": 15,
   "metadata": {},
   "outputs": [],
   "source": [
    "## Loading Packages\n",
    "import alpaca_trade_api as tradeapi\n",
    "import os\n",
    "import pandas\n",
    "from datetime import datetime, timedelta\n",
    "\n",
    "Project_Folder = \"C://Users//\" + os.getlogin() + \"//documents//github//Stock-Strategy-Exploration//\"\n",
    "\n",
    "N_DAYS_AGO = 365*3\n",
    "start_date = datetime.now() - timedelta(days=N_DAYS_AGO)\n",
    "stock = \"MSFT\"\n",
    "\n",
    "## Pulling API Keys\n",
    "Keys = pandas.read_csv(os.path.join('..','Data','Keys','Live API.txt'))\n",
    "\n",
    "## Connecting to Alpaca\n",
    "api = tradeapi.REST(Keys['Key ID'][0],Keys['Secret Key'][0], api_version='v2')\n",
    "\n",
    "## Testing API Functionality\n",
    "### Get Current Account Information\n",
    "account = api.get_account()\n",
    "### List of Tradable Assets\n",
    "assets = api.list_assets(\"active\")\n",
    "Assets = [i._raw['symbol'] for i in assets if i._raw['tradable'] & i._raw['shortable']  & i._raw['easy_to_borrow']]\n",
    "### Pulling OHLC Data\n",
    "bars = api.polygon.historic_agg_v2(stock, 1, 'day', _from=start_date.strftime(\"%Y-%m-%d\"), to=datetime.now().strftime(\"%Y-%m-%d\")).df\n",
    "\n"
   ]
  },
  {
   "cell_type": "code",
   "execution_count": 13,
   "metadata": {},
   "outputs": [
    {
     "data": {
      "application/vnd.jupyter.widget-view+json": {
       "model_id": "cdf689a40617478c9055bc3714df6edb",
       "version_major": 2,
       "version_minor": 0
      },
      "text/plain": [
       "HBox(children=(FloatProgress(value=0.0, max=4230.0), HTML(value='')))"
      ]
     },
     "metadata": {},
     "output_type": "display_data"
    },
    {
     "name": "stdout",
     "output_type": "stream",
     "text": [
      "BMY.RTFailed To Pull Data\n",
      "\n"
     ]
    }
   ],
   "source": [
    "from collections import defaultdict\n",
    "from tqdm.auto import tqdm\n",
    "import pickle\n",
    "\n",
    "## Amount of Historical Data to Pull\n",
    "N_DAYS_AGO = 365*3\n",
    "\n",
    "## Checking if Data Exists\n",
    "if os.path.exists(Project_Folder + \"Data//Historical_Data.p\"):\n",
    "    start_date = Historical_Data[\"MSFT\"].index.max() + timedelta(days = 1)\n",
    "    Historical_Data = pickle.load(open(Project_Folder + \"Data//Historical_Data.p\" , \"rb\" ))\n",
    "else:\n",
    "    start_date = datetime.now() - timedelta(days=N_DAYS_AGO)\n",
    "    Historical_Data = defaultdict(pandas.DataFrame)\n",
    "\n",
    "## Pulling Historical Data\n",
    "for i in tqdm(Assets):\n",
    "    try:\n",
    "        Historical_Data[i] =  Historical_Data[i].append(api.polygon.historic_agg_v2(i, 1, 'day', _from=start_date.strftime(\"%Y-%m-%d\"), to=datetime.now().strftime(\"%Y-%m-%d\")).df, ignore_index=True)\n",
    "    except:\n",
    "        print(i + \" : Failed To Pull Data\")\n",
    "\n",
    "## Saving Raw Data\n",
    "pickle.dump(Historical_Data, open(Project_Folder + \"Data//Historical_Data.p\" , \"wb\" ) )"
   ]
  },
  {
   "cell_type": "code",
   "execution_count": 25,
   "metadata": {},
   "outputs": [],
   "source": [
    "# Loading Historical Data If Not Present\n",
    "if 'Historical_Data' not in locals():\n",
    "    Historical_Data = pickle.load(open(Project_Folder + \"Data//Historical_Data.p\" , \"rb\" ))\n",
    "\n",
    "## Testing Technical Indicator Calculation\n",
    "TMP = Historical_Data['MSFT']\n",
    "ATR = ta.volatility.AverageTrueRange(high = TMP['high'],low = TMP['low'],close = TMP['close'],n = 20,fillna = False).average_true_range()\n",
    "RSI = ta.momentum.RSIIndicator(close = TMP['close'],n = 20,fillna = False).rsi()\n",
    "MACD = ta.trend.MACD(close = TMP['close']).macd_diff()"
   ]
  }
 ],
 "metadata": {
  "kernelspec": {
   "display_name": "Python 3",
   "language": "python",
   "name": "python3"
  },
  "language_info": {
   "codemirror_mode": {
    "name": "ipython",
    "version": 3
   },
   "file_extension": ".py",
   "mimetype": "text/x-python",
   "name": "python",
   "nbconvert_exporter": "python",
   "pygments_lexer": "ipython3",
   "version": "3.7.6"
  }
 },
 "nbformat": 4,
 "nbformat_minor": 4
}
