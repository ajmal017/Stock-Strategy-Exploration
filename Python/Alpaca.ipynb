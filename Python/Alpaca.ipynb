{
 "cells": [
  {
   "cell_type": "code",
   "execution_count": 60,
   "metadata": {},
   "outputs": [
    {
     "name": "stdout",
     "output_type": "stream",
     "text": [
      "Collecting ta\n",
      "  Using cached ta-0.5.25.tar.gz (20 kB)\n",
      "Requirement already satisfied: numpy in c:\\programdata\\miniconda3\\lib\\site-packages (from ta) (1.18.4)\n",
      "Requirement already satisfied: pandas in c:\\programdata\\miniconda3\\lib\\site-packages (from ta) (1.0.5)\n",
      "Requirement already satisfied: python-dateutil>=2.6.1 in c:\\programdata\\miniconda3\\lib\\site-packages (from pandas->ta) (2.8.1)\n",
      "Requirement already satisfied: pytz>=2017.2 in c:\\programdata\\miniconda3\\lib\\site-packages (from pandas->ta) (2020.1)\n",
      "Requirement already satisfied: six>=1.5 in c:\\users\\aayorde\\appdata\\roaming\\python\\python37\\site-packages (from python-dateutil>=2.6.1->pandas->ta) (1.12.0)\n",
      "Building wheels for collected packages: ta\n",
      "  Building wheel for ta (setup.py): started\n",
      "  Building wheel for ta (setup.py): finished with status 'done'\n",
      "  Created wheel for ta: filename=ta-0.5.25-py3-none-any.whl size=24884 sha256=d893933d9d73c04b887dca183e4c3068c2b757997560920f3cfc75f27c988844\n",
      "  Stored in directory: c:\\users\\aayorde\\appdata\\local\\pip\\cache\\wheels\\da\\58\\47\\e9a2cbcf4374b34f18c4207eeab57571849f3c9dc858848e89\n",
      "Successfully built ta\n",
      "Installing collected packages: ta\n",
      "Successfully installed ta-0.5.25\n"
     ]
    }
   ],
   "source": [
    "## Installing Required Packages\n",
    "import sys\n",
    "#!{sys.executable} -m pip install alpaca_trade_api\n",
    "#!{sys.executable} -m pip install tqdm\n",
    "#!{sys.executable} -m pip install ipywidgets\n",
    "!{sys.executable} -m pip install ta"
   ]
  },
  {
   "cell_type": "code",
   "execution_count": 39,
   "metadata": {},
   "outputs": [],
   "source": [
    "## Loading Packages\n",
    "import alpaca_trade_api as tradeapi\n",
    "import os\n",
    "import pandas\n",
    "from datetime import datetime, timedelta\n",
    "\n",
    "Project_Folder = \"C://Users//\" + os.getlogin() + \"//documents//github//Stock-Strategy-Exploration//\"\n",
    "\n",
    "N_DAYS_AGO = 365*3\n",
    "start_date = datetime.now() - timedelta(days=N_DAYS_AGO)\n",
    "stock = \"MSFT\"\n",
    "\n",
    "## Pulling API Keys\n",
    "Keys = pandas.read_csv(os.path.join('..','Data','Keys','Live API.txt'))\n",
    "\n",
    "## Connecting to Alpaca\n",
    "api = tradeapi.REST(Keys['Key ID'][0],Keys['Secret Key'][0], api_version='v2')\n",
    "\n",
    "## Testing API Functionality\n",
    "### Get Current Account Information\n",
    "account = api.get_account()\n",
    "### List of Tradable Assets\n",
    "assets = api.list_assets(\"active\")\n",
    "Assets = [i._raw['symbol'] for i in assets if i._raw['tradable'] & i._raw['shortable']  & i._raw['easy_to_borrow']]\n",
    "### Pulling OHLC Data\n",
    "bars = api.polygon.historic_agg_v2(stock, 1, 'day', _from=start_date.strftime(\"%Y-%m-%d\"), to=datetime.now().strftime(\"%Y-%m-%d\")).df\n",
    "\n"
   ]
  },
  {
   "cell_type": "code",
   "execution_count": 13,
   "metadata": {},
   "outputs": [
    {
     "data": {
      "application/vnd.jupyter.widget-view+json": {
       "model_id": "cdf689a40617478c9055bc3714df6edb",
       "version_major": 2,
       "version_minor": 0
      },
      "text/plain": [
       "HBox(children=(FloatProgress(value=0.0, max=4230.0), HTML(value='')))"
      ]
     },
     "metadata": {},
     "output_type": "display_data"
    },
    {
     "name": "stdout",
     "output_type": "stream",
     "text": [
      "BMY.RTFailed To Pull Data\n",
      "\n"
     ]
    }
   ],
   "source": [
    "from collections import defaultdict\n",
    "from tqdm.auto import tqdm\n",
    "import pickle\n",
    "\n",
    "## Amount of Historical Data to Pull\n",
    "N_DAYS_AGO = 365*3\n",
    "\n",
    "## Checking if Data Exists\n",
    "if os.path.exists(Project_Folder + \"Data//Historical_Data.p\"):\n",
    "    start_date = Historical_Data[\"MSFT\"].index.max() + timedelta(days = 1)\n",
    "    Historical_Data = pickle.load(open(Project_Folder + \"Data//Historical_Data.p\" , \"rb\" ))\n",
    "else:\n",
    "    start_date = datetime.now() - timedelta(days=N_DAYS_AGO)\n",
    "    Historical_Data = defaultdict(pandas.DataFrame)\n",
    "\n",
    "## Pulling Historical Data\n",
    "for i in tqdm(Assets):\n",
    "    try:\n",
    "        Historical_Data[i] =  Historical_Data[i].append(api.polygon.historic_agg_v2(i, 1, 'day', _from=start_date.strftime(\"%Y-%m-%d\"), to=datetime.now().strftime(\"%Y-%m-%d\")).df, ignore_index=True)\n",
    "    except:\n",
    "        print(i + \" : Failed To Pull Data\")\n",
    "\n",
    "## Saving Raw Data\n",
    "pickle.dump(Historical_Data, open(Project_Folder + \"Data//Historical_Data.p\" , \"wb\" ) )"
   ]
  },
  {
   "cell_type": "code",
   "execution_count": 68,
   "metadata": {},
   "outputs": [
    {
     "name": "stderr",
     "output_type": "stream",
     "text": [
      "C:\\ProgramData\\Miniconda3\\lib\\site-packages\\ta\\trend.py:608: RuntimeWarning: invalid value encountered in double_scalars\n",
      "  dip[i] = 100 * (self._dip[i]/self._trs[i])\n",
      "C:\\ProgramData\\Miniconda3\\lib\\site-packages\\ta\\trend.py:612: RuntimeWarning: invalid value encountered in double_scalars\n",
      "  din[i] = 100 * (self._din[i]/self._trs[i])\n"
     ]
    }
   ],
   "source": [
    "import ta\n",
    "\n",
    "TMP = ta.add_all_ta_features(Historical_Data['MSFT'], open=\"open\", high=\"high\", low=\"low\", close=\"close\", volume=\"volume\")\n"
   ]
  },
  {
   "cell_type": "code",
   "execution_count": 62,
   "metadata": {},
   "outputs": [
    {
     "data": {
      "text/html": [
       "<div>\n",
       "<style scoped>\n",
       "    .dataframe tbody tr th:only-of-type {\n",
       "        vertical-align: middle;\n",
       "    }\n",
       "\n",
       "    .dataframe tbody tr th {\n",
       "        vertical-align: top;\n",
       "    }\n",
       "\n",
       "    .dataframe thead th {\n",
       "        text-align: right;\n",
       "    }\n",
       "</style>\n",
       "<table border=\"1\" class=\"dataframe\">\n",
       "  <thead>\n",
       "    <tr style=\"text-align: right;\">\n",
       "      <th></th>\n",
       "      <th>open</th>\n",
       "      <th>high</th>\n",
       "      <th>low</th>\n",
       "      <th>close</th>\n",
       "      <th>volume</th>\n",
       "    </tr>\n",
       "    <tr>\n",
       "      <th>timestamp</th>\n",
       "      <th></th>\n",
       "      <th></th>\n",
       "      <th></th>\n",
       "      <th></th>\n",
       "      <th></th>\n",
       "    </tr>\n",
       "  </thead>\n",
       "  <tbody>\n",
       "    <tr>\n",
       "      <th>2017-07-13 00:00:00-04:00</th>\n",
       "      <td>71.5000</td>\n",
       "      <td>72.0399</td>\n",
       "      <td>71.31</td>\n",
       "      <td>71.77</td>\n",
       "      <td>20269816.0</td>\n",
       "    </tr>\n",
       "    <tr>\n",
       "      <th>2017-07-14 00:00:00-04:00</th>\n",
       "      <td>72.2400</td>\n",
       "      <td>73.2700</td>\n",
       "      <td>71.96</td>\n",
       "      <td>72.78</td>\n",
       "      <td>25868086.0</td>\n",
       "    </tr>\n",
       "    <tr>\n",
       "      <th>2017-07-17 00:00:00-04:00</th>\n",
       "      <td>72.8000</td>\n",
       "      <td>73.4500</td>\n",
       "      <td>72.72</td>\n",
       "      <td>73.35</td>\n",
       "      <td>21803907.0</td>\n",
       "    </tr>\n",
       "    <tr>\n",
       "      <th>2017-07-18 00:00:00-04:00</th>\n",
       "      <td>73.0900</td>\n",
       "      <td>73.3900</td>\n",
       "      <td>72.66</td>\n",
       "      <td>73.30</td>\n",
       "      <td>26435296.0</td>\n",
       "    </tr>\n",
       "    <tr>\n",
       "      <th>2017-07-19 00:00:00-04:00</th>\n",
       "      <td>73.5000</td>\n",
       "      <td>74.0400</td>\n",
       "      <td>73.45</td>\n",
       "      <td>73.86</td>\n",
       "      <td>22416222.0</td>\n",
       "    </tr>\n",
       "    <tr>\n",
       "      <th>...</th>\n",
       "      <td>...</td>\n",
       "      <td>...</td>\n",
       "      <td>...</td>\n",
       "      <td>...</td>\n",
       "      <td>...</td>\n",
       "    </tr>\n",
       "    <tr>\n",
       "      <th>2020-07-06 00:00:00-04:00</th>\n",
       "      <td>208.8335</td>\n",
       "      <td>211.1300</td>\n",
       "      <td>208.09</td>\n",
       "      <td>210.70</td>\n",
       "      <td>31897629.0</td>\n",
       "    </tr>\n",
       "    <tr>\n",
       "      <th>2020-07-07 00:00:00-04:00</th>\n",
       "      <td>210.4500</td>\n",
       "      <td>214.6700</td>\n",
       "      <td>207.99</td>\n",
       "      <td>208.25</td>\n",
       "      <td>33600708.0</td>\n",
       "    </tr>\n",
       "    <tr>\n",
       "      <th>2020-07-08 00:00:00-04:00</th>\n",
       "      <td>210.0700</td>\n",
       "      <td>213.2600</td>\n",
       "      <td>208.69</td>\n",
       "      <td>212.83</td>\n",
       "      <td>33600025.0</td>\n",
       "    </tr>\n",
       "    <tr>\n",
       "      <th>2020-07-09 00:00:00-04:00</th>\n",
       "      <td>216.3300</td>\n",
       "      <td>216.3800</td>\n",
       "      <td>211.47</td>\n",
       "      <td>214.32</td>\n",
       "      <td>32903485.0</td>\n",
       "    </tr>\n",
       "    <tr>\n",
       "      <th>2020-07-10 00:00:00-04:00</th>\n",
       "      <td>213.6200</td>\n",
       "      <td>214.0800</td>\n",
       "      <td>211.08</td>\n",
       "      <td>213.67</td>\n",
       "      <td>25913881.0</td>\n",
       "    </tr>\n",
       "  </tbody>\n",
       "</table>\n",
       "<p>754 rows × 5 columns</p>\n",
       "</div>"
      ],
      "text/plain": [
       "                               open      high     low   close      volume\n",
       "timestamp                                                                \n",
       "2017-07-13 00:00:00-04:00   71.5000   72.0399   71.31   71.77  20269816.0\n",
       "2017-07-14 00:00:00-04:00   72.2400   73.2700   71.96   72.78  25868086.0\n",
       "2017-07-17 00:00:00-04:00   72.8000   73.4500   72.72   73.35  21803907.0\n",
       "2017-07-18 00:00:00-04:00   73.0900   73.3900   72.66   73.30  26435296.0\n",
       "2017-07-19 00:00:00-04:00   73.5000   74.0400   73.45   73.86  22416222.0\n",
       "...                             ...       ...     ...     ...         ...\n",
       "2020-07-06 00:00:00-04:00  208.8335  211.1300  208.09  210.70  31897629.0\n",
       "2020-07-07 00:00:00-04:00  210.4500  214.6700  207.99  208.25  33600708.0\n",
       "2020-07-08 00:00:00-04:00  210.0700  213.2600  208.69  212.83  33600025.0\n",
       "2020-07-09 00:00:00-04:00  216.3300  216.3800  211.47  214.32  32903485.0\n",
       "2020-07-10 00:00:00-04:00  213.6200  214.0800  211.08  213.67  25913881.0\n",
       "\n",
       "[754 rows x 5 columns]"
      ]
     },
     "execution_count": 62,
     "metadata": {},
     "output_type": "execute_result"
    }
   ],
   "source": [
    "TMP = Historical_Data['MSFT']\n",
    "ATR = ta.volatility.AverageTrueRange()"
   ]
  }
 ],
 "metadata": {
  "kernelspec": {
   "display_name": "Python 3",
   "language": "python",
   "name": "python3"
  },
  "language_info": {
   "codemirror_mode": {
    "name": "ipython",
    "version": 3
   },
   "file_extension": ".py",
   "mimetype": "text/x-python",
   "name": "python",
   "nbconvert_exporter": "python",
   "pygments_lexer": "ipython3",
   "version": "3.7.6"
  }
 },
 "nbformat": 4,
 "nbformat_minor": 4
}
