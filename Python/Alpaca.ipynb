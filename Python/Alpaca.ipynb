{
 "cells": [
  {
   "cell_type": "markdown",
   "metadata": {},
   "source": [
    "## Alpaca Automated Stock Trading\n",
    "\n",
    "> Moving strategy from R to the native python API client\n",
    "\n",
    "### Strategy Parameters\n",
    "1. N_DAYS_AGO\n",
    "    - How many days of historical data to pull each run\n",
    "2. OLS_Window\n",
    "    - Rolling window for alpha / beta (intercept / slope) linear fit to general market movement"
   ]
  },
  {
   "cell_type": "code",
   "execution_count": 6,
   "metadata": {},
   "outputs": [],
   "source": [
    "## Warning Handling\n",
    "import warnings\n",
    "warnings.filterwarnings(\"ignore\", message=\"divide by zero encountered in double_scalars\")\n",
    "warnings.filterwarnings(\"ignore\", message=\"Mean of empty slice.\")\n",
    "warnings.filterwarnings(\"ignore\", message=\"invalid value encountered in double_scalars\")\n",
    "warnings.filterwarnings(\"ignore\", message=\"divide by zero encountered in log\")"
   ]
  },
  {
   "cell_type": "code",
   "execution_count": 8,
   "metadata": {},
   "outputs": [
    {
     "name": "stdout",
     "output_type": "stream",
     "text": [
      "ERROR: There was an issue loading pickle file. Authentication may be expired - logging in normally.\n"
     ]
    },
    {
     "name": "stdin",
     "output_type": "stream",
     "text": [
      "Enter Robinhood code for validation:  550755\n"
     ]
    }
   ],
   "source": [
    "## API Library Setup\n",
    "import os\n",
    "\n",
    "## Robinhood API Setup\n",
    "import robin_stocks as rs\n",
    "# Connecting to RobinHood\n",
    "rs.login(\n",
    "    username = os.getenv(\"RH_LOGIN\"),\n",
    "    password = os.getenv(\"RH_PASS\"),\n",
    "    expiresIn = 3600*8,\n",
    "    by_sms = True\n",
    ")\n",
    "\n",
    "## Alpaca API Setup\n",
    "import alpaca_trade_api as tradeapi\n",
    "# Connecting to Alpaca\n",
    "api = tradeapi.REST(os.getenv(\"AP_KEY\"),os.getenv(\"AP_SECRET\"), api_version='v2')"
   ]
  },
  {
   "cell_type": "code",
   "execution_count": 9,
   "metadata": {},
   "outputs": [],
   "source": [
    "N_DAYS_AGO = 365\n",
    "OLS_Window = 5\n",
    "min_list_years = 5\n",
    "min_volume = 400000\n",
    "max_investment = 1180*0.2\n",
    "min_investment = 15"
   ]
  },
  {
   "cell_type": "code",
   "execution_count": 10,
   "metadata": {},
   "outputs": [
    {
     "name": "stdout",
     "output_type": "stream",
     "text": [
      "Group_Consolidator.py\n",
      "Stock_Consolidator.py\n",
      "Technical_Indicators.py\n"
     ]
    }
   ],
   "source": [
    "%matplotlib inline\n",
    "## Installing Required Packages\n",
    "import sys\n",
    "import time\n",
    "import math\n",
    "import pickle\n",
    "import pandas as pd\n",
    "import numpy as np\n",
    "from datetime import datetime, timedelta, date, time\n",
    "from collections import defaultdict\n",
    "from tqdm.auto import tqdm\n",
    "import matplotlib.pyplot as plt\n",
    "import statsmodels.api as sm\n",
    "import statsmodels.formula.api as smf\n",
    "from statsmodels.regression.rolling import RollingOLS\n",
    "from pypfopt.efficient_frontier import EfficientFrontier\n",
    "from pypfopt import risk_models\n",
    "from pypfopt import expected_returns\n",
    "from scipy import stats\n",
    "\n",
    "## Setting Project Folder\n",
    "Project_Folder = \"C://Users//\" + os.getlogin() + \"//documents//github//Stock-Strategy-Exploration//\"\n",
    "\n",
    "## Reading In Functions\n",
    "Function_Files = os.listdir('Functions')\n",
    "for File in Function_Files:\n",
    "    if '.py' in File:\n",
    "        print(File)\n",
    "        Full_File = 'Functions/'+File\n",
    "        exec(open(Full_File).read())\n",
    "        \n",
    "def years_listed(d1):\n",
    "    d1 = datetime.strptime(d1, \"%Y-%m-%d\")\n",
    "    d2 = datetime.today()\n",
    "    return abs((d2 - d1).days/365)"
   ]
  },
  {
   "cell_type": "markdown",
   "metadata": {},
   "source": [
    "### Historical Data Pull"
   ]
  },
  {
   "cell_type": "code",
   "execution_count": 11,
   "metadata": {},
   "outputs": [
    {
     "name": "stdout",
     "output_type": "stream",
     "text": [
      "Starting Initial Data Pull\n"
     ]
    },
    {
     "data": {
      "application/vnd.jupyter.widget-view+json": {
       "model_id": "eab249c9e1dd4d78a9b50fc14ec723c1",
       "version_major": 2,
       "version_minor": 0
      },
      "text/plain": [
       "HBox(children=(FloatProgress(value=0.0, max=44.0), HTML(value='')))"
      ]
     },
     "metadata": {},
     "output_type": "display_data"
    },
    {
     "name": "stdout",
     "output_type": "stream",
     "text": [
      "\n",
      "Filtering Based On Average Price and Volume\n"
     ]
    },
    {
     "data": {
      "application/vnd.jupyter.widget-view+json": {
       "model_id": "e0dde04c71284d50961dbeb5ce8daa1f",
       "version_major": 2,
       "version_minor": 0
      },
      "text/plain": [
       "HBox(children=(FloatProgress(value=0.0, max=4396.0), HTML(value='')))"
      ]
     },
     "metadata": {},
     "output_type": "display_data"
    },
    {
     "name": "stdout",
     "output_type": "stream",
     "text": [
      "Skipped BHP No Data\n",
      "\n",
      "Pulling Company Data\n"
     ]
    },
    {
     "data": {
      "application/vnd.jupyter.widget-view+json": {
       "model_id": "bd88575f6f984ce5a9832eb0a530cffa",
       "version_major": 2,
       "version_minor": 0
      },
      "text/plain": [
       "HBox(children=(FloatProgress(value=0.0, max=33.0), HTML(value='')))"
      ]
     },
     "metadata": {},
     "output_type": "display_data"
    },
    {
     "name": "stdout",
     "output_type": "stream",
     "text": [
      "\n",
      "Formatting Final Dataset\n"
     ]
    },
    {
     "data": {
      "application/vnd.jupyter.widget-view+json": {
       "model_id": "1889a35222244996a23d776050524ab0",
       "version_major": 2,
       "version_minor": 0
      },
      "text/plain": [
       "HBox(children=(FloatProgress(value=0.0, max=1374.0), HTML(value='')))"
      ]
     },
     "metadata": {},
     "output_type": "display_data"
    },
    {
     "name": "stdout",
     "output_type": "stream",
     "text": [
      "\n"
     ]
    }
   ],
   "source": [
    "## Pulling All Available Alpaca Symbols\n",
    "assets = api.list_assets(\"active\")\n",
    "Final_Assets = [i._raw['symbol'] for i in assets \\\n",
    "                if i._raw['tradable'] \\\n",
    "                    & i._raw['shortable'] \\\n",
    "                    & i._raw['easy_to_borrow']]\n",
    "\n",
    "## Pulling All Bar Data\n",
    "s_inc = 100\n",
    "print(\"Starting Initial Data Pull\")\n",
    "Splits = [0]\n",
    "while Splits[len(Splits)-1] < (len(Final_Assets)-1):\n",
    "    if Splits[len(Splits)-1] + s_inc > (len(Final_Assets)-1):\n",
    "        Splits.append((len(Final_Assets)-1))\n",
    "    else:\n",
    "        Splits.append(Splits[len(Splits)-1] + s_inc)\n",
    "Initial_Bars = {}\n",
    "for i in tqdm(range(1,len(Splits))):\n",
    "    Initial_Bars.update(api.get_barset(symbols = Final_Assets[Splits[i-1]:Splits[i]],\n",
    "                                      timeframe = 'day',\n",
    "                                      limit = N_DAYS_AGO))\n",
    "\n",
    "print(\"Filtering Based On Average Price and Volume\")\n",
    "## Filtering Based On Price And Volume Criteria\n",
    "Stocks = []\n",
    "for i in tqdm(Final_Assets):\n",
    "    try:\n",
    "        Price_Data = Initial_Bars[i].df\n",
    "        Price = np.mean(Price_Data['close'])\n",
    "        Volume = np.mean(Price_Data['volume'])\n",
    "        if Price < max_investment \\\n",
    "        and Price > min_investment \\\n",
    "        and i in Final_Assets \\\n",
    "        and Volume > min_volume:\n",
    "            Stocks.append(i)\n",
    "    except:\n",
    "        print(\"Skipped\",i,\"No Data\")\n",
    "\n",
    "print(\"Pulling Company Data\")\n",
    "## Pulling Polygon Company Data\n",
    "Splits = [0]\n",
    "while Splits[len(Splits)-1] < (len(Stocks)-1):\n",
    "    if Splits[len(Splits)-1] + 50 > (len(Stocks)-1):\n",
    "        Splits.append((len(Stocks)-1))\n",
    "    else:\n",
    "        Splits.append(Splits[len(Splits)-1] + 50)\n",
    "Company_Data = {}\n",
    "for i in tqdm(range(1,len(Splits))):\n",
    "    Company_Data.update(api.polygon.company(Stocks[Splits[i-1]:Splits[i]]))\n",
    "\n",
    "## Filtering Based on Company Information\n",
    "Updated_Stocks = list(Company_Data.keys())\n",
    "Final_Stocks = []\n",
    "for i in Updated_Stocks:\n",
    "    if not Company_Data[i].active:\n",
    "        continue\n",
    "    if years_listed(Company_Data[i].listdate) > min_list_years:\n",
    "        Final_Stocks.append(i)\n",
    "        \n",
    "## Amount of Historical Data to Pull\n",
    "start_date = datetime.now() - timedelta(days=N_DAYS_AGO)\n",
    "Historical_Data = defaultdict(pd.DataFrame)\n",
    "\n",
    "print(\"Formatting Final Dataset\")\n",
    "## Formatting Final Dataset\n",
    "counter = 0\n",
    "for i in tqdm(Final_Stocks):\n",
    "    TMP = Initial_Bars[i].df\n",
    "    TMP['date'] = TMP.index\n",
    "    TMP['sector'] = Company_Data[i].sector\n",
    "    TMP['industry'] = Company_Data[i].industry\n",
    "    Historical_Data[i] = TMP \n",
    "\n",
    "## Adding Ticker Column\n",
    "for s in Historical_Data:\n",
    "    Historical_Data[s].insert(0, 'stock', [s]*len(Historical_Data[s]))\n",
    "\n",
    "## Combining Data To Single Data Frame\n",
    "Combined_Data = pd.concat(Historical_Data.values())  \n",
    "Combined_Data = Combined_Data[Combined_Data['sector'] != '']\n",
    "Combined_Data = Combined_Data[pd.notnull(Combined_Data['sector'])]\n",
    "Combined_Data = Combined_Data[Combined_Data['industry'] != '']\n",
    "Combined_Data = Combined_Data[pd.notnull(Combined_Data['industry'])]\n",
    "\n",
    "## Saving Data\n",
    "pickle.dump(Combined_Data, open(Project_Folder + \"Data//Historical_Data.p\" , \"wb\" ) )"
   ]
  },
  {
   "cell_type": "markdown",
   "metadata": {},
   "source": [
    "### Exploring Total Market Performance"
   ]
  },
  {
   "cell_type": "code",
   "execution_count": 12,
   "metadata": {},
   "outputs": [
    {
     "data": {
      "text/html": [
       "<div>\n",
       "<style scoped>\n",
       "    .dataframe tbody tr th:only-of-type {\n",
       "        vertical-align: middle;\n",
       "    }\n",
       "\n",
       "    .dataframe tbody tr th {\n",
       "        vertical-align: top;\n",
       "    }\n",
       "\n",
       "    .dataframe thead th {\n",
       "        text-align: right;\n",
       "    }\n",
       "</style>\n",
       "<table border=\"1\" class=\"dataframe\">\n",
       "  <thead>\n",
       "    <tr style=\"text-align: right;\">\n",
       "      <th></th>\n",
       "      <th>close</th>\n",
       "      <th>high</th>\n",
       "      <th>low</th>\n",
       "      <th>volume</th>\n",
       "      <th>count</th>\n",
       "      <th>close_diff</th>\n",
       "      <th>close_return</th>\n",
       "      <th>volume_diff</th>\n",
       "      <th>sma</th>\n",
       "      <th>RSI</th>\n",
       "      <th>MACD</th>\n",
       "    </tr>\n",
       "    <tr>\n",
       "      <th>date</th>\n",
       "      <th></th>\n",
       "      <th></th>\n",
       "      <th></th>\n",
       "      <th></th>\n",
       "      <th></th>\n",
       "      <th></th>\n",
       "      <th></th>\n",
       "      <th></th>\n",
       "      <th></th>\n",
       "      <th></th>\n",
       "      <th></th>\n",
       "    </tr>\n",
       "  </thead>\n",
       "  <tbody>\n",
       "    <tr>\n",
       "      <th>2020-10-01 00:00:00-04:00</th>\n",
       "      <td>66.271495</td>\n",
       "      <td>67.122681</td>\n",
       "      <td>65.211541</td>\n",
       "      <td>3.233196e+06</td>\n",
       "      <td>1083.0</td>\n",
       "      <td>0.009130</td>\n",
       "      <td>0.043132</td>\n",
       "      <td>-0.012501</td>\n",
       "      <td>65.458176</td>\n",
       "      <td>40.237418</td>\n",
       "      <td>0.074593</td>\n",
       "    </tr>\n",
       "    <tr>\n",
       "      <th>2020-10-02 00:00:00-04:00</th>\n",
       "      <td>66.374403</td>\n",
       "      <td>67.224479</td>\n",
       "      <td>64.672167</td>\n",
       "      <td>3.009142e+06</td>\n",
       "      <td>1083.0</td>\n",
       "      <td>0.001553</td>\n",
       "      <td>0.030147</td>\n",
       "      <td>-0.069298</td>\n",
       "      <td>65.846664</td>\n",
       "      <td>42.836163</td>\n",
       "      <td>0.134543</td>\n",
       "    </tr>\n",
       "    <tr>\n",
       "      <th>2020-10-05 00:00:00-04:00</th>\n",
       "      <td>67.693819</td>\n",
       "      <td>68.187416</td>\n",
       "      <td>66.384777</td>\n",
       "      <td>2.809365e+06</td>\n",
       "      <td>1083.0</td>\n",
       "      <td>0.019878</td>\n",
       "      <td>0.031579</td>\n",
       "      <td>-0.066390</td>\n",
       "      <td>66.261111</td>\n",
       "      <td>36.972071</td>\n",
       "      <td>0.251149</td>\n",
       "    </tr>\n",
       "    <tr>\n",
       "      <th>2020-10-06 00:00:00-04:00</th>\n",
       "      <td>67.184850</td>\n",
       "      <td>69.002153</td>\n",
       "      <td>66.705255</td>\n",
       "      <td>3.232385e+06</td>\n",
       "      <td>1083.0</td>\n",
       "      <td>-0.007519</td>\n",
       "      <td>0.028960</td>\n",
       "      <td>0.150575</td>\n",
       "      <td>66.639295</td>\n",
       "      <td>42.733432</td>\n",
       "      <td>0.279898</td>\n",
       "    </tr>\n",
       "    <tr>\n",
       "      <th>2020-10-07 00:00:00-04:00</th>\n",
       "      <td>68.467143</td>\n",
       "      <td>69.154222</td>\n",
       "      <td>67.375470</td>\n",
       "      <td>2.828504e+06</td>\n",
       "      <td>1083.0</td>\n",
       "      <td>0.019086</td>\n",
       "      <td>0.042564</td>\n",
       "      <td>-0.124948</td>\n",
       "      <td>67.198342</td>\n",
       "      <td>45.988734</td>\n",
       "      <td>0.365748</td>\n",
       "    </tr>\n",
       "    <tr>\n",
       "      <th>2020-10-08 00:00:00-04:00</th>\n",
       "      <td>69.180997</td>\n",
       "      <td>69.850218</td>\n",
       "      <td>68.142347</td>\n",
       "      <td>2.974607e+06</td>\n",
       "      <td>1083.0</td>\n",
       "      <td>0.010426</td>\n",
       "      <td>0.043903</td>\n",
       "      <td>0.051654</td>\n",
       "      <td>67.780242</td>\n",
       "      <td>46.422056</td>\n",
       "      <td>0.445778</td>\n",
       "    </tr>\n",
       "    <tr>\n",
       "      <th>2020-10-09 00:00:00-04:00</th>\n",
       "      <td>69.640139</td>\n",
       "      <td>70.521360</td>\n",
       "      <td>68.830189</td>\n",
       "      <td>2.833941e+06</td>\n",
       "      <td>1082.0</td>\n",
       "      <td>0.006637</td>\n",
       "      <td>0.049202</td>\n",
       "      <td>-0.047289</td>\n",
       "      <td>68.433390</td>\n",
       "      <td>44.551576</td>\n",
       "      <td>0.500694</td>\n",
       "    </tr>\n",
       "    <tr>\n",
       "      <th>2020-10-12 00:00:00-04:00</th>\n",
       "      <td>69.958699</td>\n",
       "      <td>70.788455</td>\n",
       "      <td>69.097528</td>\n",
       "      <td>2.722821e+06</td>\n",
       "      <td>1083.0</td>\n",
       "      <td>0.004574</td>\n",
       "      <td>0.033458</td>\n",
       "      <td>-0.039210</td>\n",
       "      <td>68.886366</td>\n",
       "      <td>48.055877</td>\n",
       "      <td>0.526876</td>\n",
       "    </tr>\n",
       "    <tr>\n",
       "      <th>2020-10-13 00:00:00-04:00</th>\n",
       "      <td>69.562365</td>\n",
       "      <td>70.576593</td>\n",
       "      <td>68.787216</td>\n",
       "      <td>2.960785e+06</td>\n",
       "      <td>1083.0</td>\n",
       "      <td>-0.005665</td>\n",
       "      <td>0.035388</td>\n",
       "      <td>0.087396</td>\n",
       "      <td>69.361869</td>\n",
       "      <td>47.342203</td>\n",
       "      <td>0.486854</td>\n",
       "    </tr>\n",
       "    <tr>\n",
       "      <th>2020-10-14 00:00:00-04:00</th>\n",
       "      <td>69.288399</td>\n",
       "      <td>70.593236</td>\n",
       "      <td>68.753442</td>\n",
       "      <td>3.012584e+06</td>\n",
       "      <td>1083.0</td>\n",
       "      <td>-0.003938</td>\n",
       "      <td>0.011995</td>\n",
       "      <td>0.017495</td>\n",
       "      <td>69.526120</td>\n",
       "      <td>61.676821</td>\n",
       "      <td>0.414133</td>\n",
       "    </tr>\n",
       "  </tbody>\n",
       "</table>\n",
       "</div>"
      ],
      "text/plain": [
       "                               close       high        low        volume  \\\n",
       "date                                                                       \n",
       "2020-10-01 00:00:00-04:00  66.271495  67.122681  65.211541  3.233196e+06   \n",
       "2020-10-02 00:00:00-04:00  66.374403  67.224479  64.672167  3.009142e+06   \n",
       "2020-10-05 00:00:00-04:00  67.693819  68.187416  66.384777  2.809365e+06   \n",
       "2020-10-06 00:00:00-04:00  67.184850  69.002153  66.705255  3.232385e+06   \n",
       "2020-10-07 00:00:00-04:00  68.467143  69.154222  67.375470  2.828504e+06   \n",
       "2020-10-08 00:00:00-04:00  69.180997  69.850218  68.142347  2.974607e+06   \n",
       "2020-10-09 00:00:00-04:00  69.640139  70.521360  68.830189  2.833941e+06   \n",
       "2020-10-12 00:00:00-04:00  69.958699  70.788455  69.097528  2.722821e+06   \n",
       "2020-10-13 00:00:00-04:00  69.562365  70.576593  68.787216  2.960785e+06   \n",
       "2020-10-14 00:00:00-04:00  69.288399  70.593236  68.753442  3.012584e+06   \n",
       "\n",
       "                            count  close_diff  close_return  volume_diff  \\\n",
       "date                                                                       \n",
       "2020-10-01 00:00:00-04:00  1083.0    0.009130      0.043132    -0.012501   \n",
       "2020-10-02 00:00:00-04:00  1083.0    0.001553      0.030147    -0.069298   \n",
       "2020-10-05 00:00:00-04:00  1083.0    0.019878      0.031579    -0.066390   \n",
       "2020-10-06 00:00:00-04:00  1083.0   -0.007519      0.028960     0.150575   \n",
       "2020-10-07 00:00:00-04:00  1083.0    0.019086      0.042564    -0.124948   \n",
       "2020-10-08 00:00:00-04:00  1083.0    0.010426      0.043903     0.051654   \n",
       "2020-10-09 00:00:00-04:00  1082.0    0.006637      0.049202    -0.047289   \n",
       "2020-10-12 00:00:00-04:00  1083.0    0.004574      0.033458    -0.039210   \n",
       "2020-10-13 00:00:00-04:00  1083.0   -0.005665      0.035388     0.087396   \n",
       "2020-10-14 00:00:00-04:00  1083.0   -0.003938      0.011995     0.017495   \n",
       "\n",
       "                                 sma        RSI      MACD  \n",
       "date                                                       \n",
       "2020-10-01 00:00:00-04:00  65.458176  40.237418  0.074593  \n",
       "2020-10-02 00:00:00-04:00  65.846664  42.836163  0.134543  \n",
       "2020-10-05 00:00:00-04:00  66.261111  36.972071  0.251149  \n",
       "2020-10-06 00:00:00-04:00  66.639295  42.733432  0.279898  \n",
       "2020-10-07 00:00:00-04:00  67.198342  45.988734  0.365748  \n",
       "2020-10-08 00:00:00-04:00  67.780242  46.422056  0.445778  \n",
       "2020-10-09 00:00:00-04:00  68.433390  44.551576  0.500694  \n",
       "2020-10-12 00:00:00-04:00  68.886366  48.055877  0.526876  \n",
       "2020-10-13 00:00:00-04:00  69.361869  47.342203  0.486854  \n",
       "2020-10-14 00:00:00-04:00  69.526120  61.676821  0.414133  "
      ]
     },
     "execution_count": 12,
     "metadata": {},
     "output_type": "execute_result"
    }
   ],
   "source": [
    "## Loading Stored Data\n",
    "Combined_Data = pickle.load(open(Project_Folder + \"Data//Historical_Data.p\" , \"rb\" ))\n",
    "Combined_Data = Combined_Data.drop_duplicates()\n",
    "Combined_Data = Combined_Data[(datetime.now() - timedelta(days = N_DAYS_AGO)).strftime(\"%Y-%m-%d\"):datetime.now().strftime(\"%Y-%m-%d\")]\n",
    "\n",
    "Total_Market = Stock_Consolidator(Combined_Data)\n",
    "Total_Market = Total_Market.loc[Total_Market.RSI > 0,:]\n",
    "Total_Market.tail(10)"
   ]
  },
  {
   "cell_type": "code",
   "execution_count": 13,
   "metadata": {},
   "outputs": [
    {
     "data": {
      "image/png": "[encoded data removed]",
      "text/plain": [
       "<Figure size 1152x648 with 3 Axes>"
      ]
     },
     "metadata": {
      "needs_background": "light"
     },
     "output_type": "display_data"
    }
   ],
   "source": [
    "Plot_Data = Total_Market\n",
    "Plot_Data['RSI'] = pd.qcut(Plot_Data.RSI,100,labels = False)\n",
    "# Plot_Data['RSI'] = ((Plot_Data['RSI'] -  np.min(Plot_Data['RSI'])) / (np.max(Plot_Data['RSI']) - np.min(Plot_Data['RSI'])))*100\n",
    "Plot_Data['MACD'] = pd.qcut(Plot_Data.MACD,100,labels = False)/100\n",
    "# Plot_Data['MACD'] = (1 + 1)*((Plot_Data['MACD'] -  np.min(Plot_Data['MACD'])) / (np.max(Plot_Data['MACD']) - np.min(Plot_Data['MACD']))) - 1\n",
    "\n",
    "Plot_Data['date'] = Plot_Data.index.get_level_values('date')\n",
    "Plot_Data = Plot_Data.reset_index(drop = True)\n",
    "x = Plot_Data['date']\n",
    "\n",
    "fig, axs = plt.subplots(3,1,gridspec_kw={'height_ratios':[3,1,1]})\n",
    "axs[0].plot(x,Plot_Data['close'])\n",
    "axs[0].plot(x,Plot_Data['sma'])\n",
    "axs[1].plot(x,Plot_Data['RSI'])\n",
    "axs[1].axhline(y = 70,c = 'black',dashes = (5,2))\n",
    "axs[1].axhline(y = 30,c = 'black',dashes = (5,2))\n",
    "axs[2].plot(x,Plot_Data['MACD'])\n",
    "axs[2].axhline(y = 0.50,c = 'black',dashes = (5,2))\n",
    "\n",
    "axs[0].set(title = \"Mean Consolidated Total Market Closing Past \"+ str(N_DAYS_AGO) +\" Days\\nSMA is \" + str(OLS_Window) +\" Day Moving Average\",\n",
    "      ylabel = \"Mean Close Across All Tickers\",\n",
    "      xlabel = \"\")\n",
    "axs[1].set(ylabel = \"RSI\",\n",
    "      xlabel = \"\",\n",
    "      ylim = [0,100])\n",
    "axs[2].set(\n",
    "    ylabel = \"MACD\",\n",
    "    xlabel = \"\",\n",
    "    ylim = [0,1]\n",
    ")\n",
    "fig.set_size_inches(16,9)"
   ]
  },
  {
   "cell_type": "code",
   "execution_count": 14,
   "metadata": {},
   "outputs": [
    {
     "name": "stdout",
     "output_type": "stream",
     "text": [
      "Market Strength : 0.516 \n",
      "Market_Momentum : 0.6\n",
      "Beta Significance : 0.4 \n",
      "Alpha Significance : 0.6\n"
     ]
    }
   ],
   "source": [
    "## Calculating Market Deciders\n",
    "Market_Strength = np.mean(Total_Market.RSI.tail(5))/100\n",
    "Market_Momentum = (np.mean(Plot_Data.MACD.tail(5))-np.min(Plot_Data.MACD.tail(5)))/(np.max(Plot_Data['MACD'].tail(5)) - np.min(Plot_Data['MACD'].tail(5)))\n",
    "print(\"Market Strength :\",np.round(Market_Strength,3),\n",
    "      \"\\nMarket_Momentum :\",np.round(Market_Momentum,3))\n",
    "\n",
    "Max_Beta_P = np.round(1 - Market_Momentum,3)\n",
    "Min_Beta = 1 if Market_Momentum > 0.50 else -2\n",
    "Max_Alpha_P = np.round(Market_Momentum,3)\n",
    "Min_Alpha = 0 if Market_Momentum <= 0.50 else -1\n",
    "\n",
    "print(\"Beta Significance :\",Max_Beta_P,\n",
    "     \"\\nAlpha Significance :\",Max_Alpha_P)"
   ]
  },
  {
   "cell_type": "markdown",
   "metadata": {},
   "source": [
    "## Digging Into A Sector Ranking"
   ]
  },
  {
   "cell_type": "code",
   "execution_count": 28,
   "metadata": {},
   "outputs": [
    {
     "name": "stdout",
     "output_type": "stream",
     "text": [
      "No Viable Sectors Currently\n"
     ]
    }
   ],
   "source": [
    "Sectors = list(Combined_Data['sector'].unique())\n",
    "Total_Sector_Summary = Group_Consolidator(\n",
    "    Combined_Data = Combined_Data,\n",
    "    groups = Sectors,\n",
    "    column = 'sector'\n",
    ")\n",
    "Sector_Summary = Group_Consolidator(Combined_Data = Combined_Data,\n",
    "                                    groups = Sectors,\n",
    "                                    column = 'sector',\n",
    "                                    min_macd = 0,\n",
    "                                    max_beta_p = Max_Beta_P,\n",
    "                                    max_alpha_p = Max_Alpha_P,\n",
    "                                    min_beta = Min_Beta,\n",
    "                                    min_alpha = Min_Alpha,\n",
    "                                    max_rsi = 70,\n",
    "                                    min_risk_ratio = 1\n",
    ")\n",
    "if len(Sector_Summary) != 0:\n",
    "    Sector_Summary\n",
    "else: \n",
    "    Sector_Summary = list()\n",
    "    print(\"No Viable Sectors Currently\")"
   ]
  },
  {
   "cell_type": "markdown",
   "metadata": {},
   "source": [
    "## Diving Further Into Individual Idustries"
   ]
  },
  {
   "cell_type": "code",
   "execution_count": 30,
   "metadata": {},
   "outputs": [
    {
     "name": "stdout",
     "output_type": "stream",
     "text": [
      "No sectors to loop through\n"
     ]
    }
   ],
   "source": [
    "if type(Sector_Summary) is not list:\n",
    "    Top_Sector = Combined_Data[Combined_Data['sector'].isin(Sector_Summary.index.values)]\n",
    "    Industries = list(Top_Sector['industry'].unique())\n",
    "    Industry_Summary = Group_Consolidator(Combined_Data = Top_Sector,\n",
    "                                          groups = Industries,\n",
    "                                          column = 'industry',\n",
    "                                          min_macd = 0,\n",
    "                                          max_beta_p = Max_Beta_P,\n",
    "                                          max_alpha_p = Max_Alpha_P,\n",
    "                                          min_beta = Min_Beta,\n",
    "                                          min_alpha = Min_Alpha,\n",
    "                                          max_rsi = 70,\n",
    "                                          min_risk_ratio = 1\n",
    "                                         )\n",
    "    Industry_Summary\n",
    "else:\n",
    "    print(\"No sectors to loop through\")\n",
    "    Industry_Summary = list()"
   ]
  },
  {
   "cell_type": "markdown",
   "metadata": {},
   "source": [
    "## Diving Into The Individual Stocks"
   ]
  },
  {
   "cell_type": "code",
   "execution_count": 31,
   "metadata": {},
   "outputs": [
    {
     "name": "stdout",
     "output_type": "stream",
     "text": [
      "No industries to loop through\n"
     ]
    }
   ],
   "source": [
    "if type(Industry_Summary) is not list:\n",
    "    Top_Industry = Top_Sector[Top_Sector['industry'].isin(Industry_Summary.index.values)]\n",
    "    Stocks = list(Top_Industry['stock'].unique())\n",
    "    Stock_Summary = Group_Consolidator(Combined_Data = Top_Industry,\n",
    "                                       groups = Stocks,\n",
    "                                       column = 'stock',\n",
    "                                       min_macd = 0,\n",
    "                                       min_risk_ratio = 1,\n",
    "                                       max_rsi = 50\n",
    "    )\n",
    "    Stock_Summary. \\\n",
    "        sort_values(by = ['rsi'],ascending = [1])\n",
    "else:\n",
    "    print(\"No industries to loop through\")\n",
    "    Stock_Summary = list()"
   ]
  },
  {
   "cell_type": "code",
   "execution_count": 34,
   "metadata": {},
   "outputs": [
    {
     "name": "stdout",
     "output_type": "stream",
     "text": [
      "PEN  :  0.2\n",
      "ABC  :  0.2\n",
      "MCK  :  0.05578\n",
      "BMRN  :  0.14422\n",
      "KURA  :  0.2\n",
      "DGX  :  0.2\n",
      "Expected annual return: 43.3%\n",
      "Annual volatility: 36.0%\n",
      "Sharpe Ratio: 1.14\n"
     ]
    }
   ],
   "source": [
    "## Pulling Current Stock Holdings\n",
    "my_stocks = rs.build_holdings()\n",
    "Current_Holdings = pd.DataFrame({key:value for key,value in my_stocks.items()})\n",
    "\n",
    "## Combining Lists\n",
    "Stocks = list(Current_Holdings.keys())\n",
    "if len(Stock_Summary) != 0:\n",
    "    Stocks.extend(list(Stock_Summary.index))\n",
    "Stocks = list(set(Stocks))\n",
    "\n",
    "## Pulling Historical Data\n",
    "Stock_Data = pd.DataFrame()\n",
    "for Stock in Stocks:\n",
    "    Stock_Data[Stock] = Combined_Data['close'][Combined_Data.stock == Stock]\n",
    "    \n",
    "## Creating expected mean and variance matricies\n",
    "mu = expected_returns.mean_historical_return(Stock_Data)#returns.mean() * 252\n",
    "S = risk_models.sample_cov(Stock_Data) #Get the sample covariance matrix\n",
    "\n",
    "## Optimizing Sharpe Ratio\n",
    "ef = EfficientFrontier(\n",
    "    expected_returns = mu,\n",
    "    cov_matrix = S, \n",
    "    weight_bounds = (0,0.20),\n",
    "    verbose = False\n",
    ")\n",
    "weights = ef.max_sharpe()\n",
    "cleaned_weights = ef.clean_weights() \n",
    "\n",
    "## Subsetting Stock Picks\n",
    "Final_Picks = []\n",
    "for stock in cleaned_weights.keys():\n",
    "    if cleaned_weights[stock] > 0:\n",
    "        print(stock,\" : \",cleaned_weights[stock])\n",
    "        Final_Picks.append(stock)\n",
    "        \n",
    "Optimized_Portfolio = ef.portfolio_performance(verbose=True)"
   ]
  },
  {
   "cell_type": "markdown",
   "metadata": {},
   "source": [
    "## Robinhood Automated Investing POC"
   ]
  },
  {
   "cell_type": "code",
   "execution_count": 38,
   "metadata": {},
   "outputs": [
    {
     "name": "stdout",
     "output_type": "stream",
     "text": [
      "Found Additional pages.\n",
      "Loading page 2 ...\n",
      "Loading page 3 ...\n",
      "Loading page 4 ...\n",
      "Loading page 5 ...\n",
      "Rebalancing PEN : Currently = 17.96 , Target = 20.0\n",
      "Buying  32.0\n",
      "Order ID: 94a6e35d-9b37-4b49-9ad7-39442ee1b58a placed\n",
      "Rebalancing ABC : Currently = 17.18 , Target = 20.0\n",
      "Buying  41.0\n",
      "Order ID: 79f5b568-9c44-4744-b1a2-23b7af1e9df5 placed\n",
      "Rebalancing MCK : Currently = 3.09 , Target = 5.578\n",
      "Buying  31.0\n",
      "Order ID: bfb37a06-9582-4062-8632-91fd436425e9 placed\n",
      "BMRN  Within Recommended Percentage\n",
      "Rebalancing KURA : Currently = 17.51 , Target = 20.0\n",
      "Buying  37.0\n",
      "Order ID: 6fdd23df-d94e-4903-8514-52e38ad6322e placed\n",
      "Rebalancing DGX : Currently = 10.27 , Target = 20.0\n",
      "Buying  120.0\n",
      "Order ID: 123e9db0-5f91-4b61-be5e-14d36b6caa51 placed\n"
     ]
    }
   ],
   "source": [
    "## Pulling Relevent Account Information\n",
    "Account_Equity = float(rs.build_user_profile()['equity'])\n",
    "Buying_Power = float(rs.profiles.load_account_profile('buying_power'))\n",
    "\n",
    "## Pulling Open Orders\n",
    "Open_Orders = rs.orders.get_all_open_stock_orders()\n",
    "# Appending Stock Symbols\n",
    "for item in Open_Orders:\n",
    "    item['symbol'] = rs.get_symbol_by_url(item['instrument'])\n",
    "\n",
    "## Pulling Current Stock Holdings\n",
    "my_stocks = rs.build_holdings()\n",
    "Current_Holdings = pd.DataFrame({key:value for key,value in my_stocks.items()})\n",
    "    \n",
    "## Checking Portfolio Balancing And Placing New Orders\n",
    "for s in Final_Picks:\n",
    "    \n",
    "    # Portfolio Restructuring\n",
    "    if s in list(Current_Holdings.keys()):\n",
    "        \n",
    "        # Current Portfolio Percentage\n",
    "        Pct_Holding = float(Current_Holdings[s].percentage)\n",
    "        # Optimal Portfolio Percentage\n",
    "        Rcm_Holding = cleaned_weights[s]*100\n",
    "        \n",
    "        # Rebalancing If Beyond Recommended Holding\n",
    "        if Pct_Holding > Rcm_Holding:\n",
    "            print(\"Rebalancing\",s,\": Currently =\",Pct_Holding,\", Target =\",Rcm_Holding)\n",
    "            \n",
    "            # Canceling Any Open Orders\n",
    "            if s in [item['symbol'] for item in Open_Orders]:\n",
    "                Order_Ids = [item['id'] for item in Open_Orders if item['symbol'] == s]\n",
    "                print(\"Canceling Existing Order:\",Order_Id)\n",
    "                for ID in Order_Ids:\n",
    "                    rs.orders.cancel_stock_order(ID)\n",
    "                    \n",
    "            # Placing Sell Order\n",
    "            Sell_Amount = float(Current_Holdings[s]['equity']) - Account_Equity*Rcm_Holding/100\n",
    "            print(\"Selling \",np.round(Sell_Amount))\n",
    "            Order_Info = rs.orders.order_sell_fractional_by_price(\n",
    "                symbol = s,\n",
    "                amountInDollars = Sell_Amount,\n",
    "                timeInForce = 'gfd',\n",
    "                extendedHours = False\n",
    "            )\n",
    "            print(\"Order ID:\",Order_Info['id'],\"placed\")\n",
    "        \n",
    "        # Checking If More Needs Purchased\n",
    "        elif Pct_Holding < Rcm_Holding*0.95:\n",
    "            print(\"Rebalancing\",s,\": Currently =\",Pct_Holding,\", Target =\",Rcm_Holding)\n",
    "            \n",
    "            # Canceling Any Open Orders\n",
    "            if s in [item['symbol'] for item in Open_Orders]:\n",
    "                Order_Ids = [item['id'] for item in Open_Orders if item['symbol'] == s]\n",
    "                print(\"Canceling Existing Order:\",Order_Id)\n",
    "                for ID in Order_Ids:\n",
    "                    rs.orders.cancel_stock_order(ID)\n",
    "            \n",
    "             # Placing Buy Order\n",
    "            Buy_Amount = Account_Equity*Rcm_Holding/100 - float(Current_Holdings[s]['equity'])\n",
    "            print(\"Buying \",np.round(Buy_Amount))\n",
    "            \n",
    "            if Buy_Amount <= Buying_Power and Buy_Amount > 1:\n",
    "                Order_Info = rs.orders.order_buy_fractional_by_price(\n",
    "                    symbol = s,\n",
    "                    amountInDollars = Buy_Amount,\n",
    "                    timeInForce = 'gfd',\n",
    "                    extendedHours = False\n",
    "                )\n",
    "                Buying_Power = float(rs.profiles.load_account_profile('buying_power'))\n",
    "                print(\"Order ID:\",Order_Info['id'],\"placed\")\n",
    "            else:\n",
    "                if Buy_Amount < 1:\n",
    "                    print(\"Buy Amount Less Than Minimum (1$) :\",np.round(Buy_Amount))\n",
    "                else:\n",
    "                    print(\"Not Enough Buying Power\")\n",
    "        else:\n",
    "            print(s,\" Within Recommended Percentage\")"
   ]
  }
 ],
 "metadata": {
  "kernelspec": {
   "display_name": "GTU",
   "language": "python",
   "name": "gtu"
  },
  "language_info": {
   "codemirror_mode": {
    "name": "ipython",
    "version": 3
   },
   "file_extension": ".py",
   "mimetype": "text/x-python",
   "name": "python",
   "nbconvert_exporter": "python",
   "pygments_lexer": "ipython3",
   "version": "3.8.5"
  }
 },
 "nbformat": 4,
 "nbformat_minor": 4
}
